{
 "cells": [
  {
   "cell_type": "markdown",
   "id": "456a6104",
   "metadata": {},
   "source": [
    "### Interface prediction of dog breed"
   ]
  },
  {
   "cell_type": "markdown",
   "id": "69739c95",
   "metadata": {},
   "source": [
    "Load all required libraries for Dog's Breed Identification"
   ]
  },
  {
   "cell_type": "code",
   "execution_count": 3,
   "id": "6c811d52",
   "metadata": {},
   "outputs": [],
   "source": [
    "import os\n",
    "import matplotlib.pyplot as plt\n",
    "import cv2 as cv\n",
    "from tensorflow import keras\n",
    "from tensorflow.keras.models import load_model, Model\n",
    "import numpy as np\n",
    "import pandas as pd\n",
    "import tensorflow as tf\n",
    "import keras_tuner as kt\n",
    "import warnings\n",
    "warnings.filterwarnings('ignore')\n",
    "import matplotlib.image as mpimg\n",
    "import gradio as gr"
   ]
  },
  {
   "cell_type": "code",
   "execution_count": 31,
   "id": "2305ffb1",
   "metadata": {},
   "outputs": [
    {
     "name": "stdout",
     "output_type": "stream",
     "text": [
      "Running on local URL:  http://127.0.0.1:7910\n",
      "\n",
      "Could not create share link, please check your internet connection.\n"
     ]
    },
    {
     "data": {
      "text/html": [
       "<div><iframe src=\"http://127.0.0.1:7910/\" width=\"100%\" height=\"500\" allow=\"autoplay; camera; microphone; clipboard-read; clipboard-write;\" frameborder=\"0\" allowfullscreen></iframe></div>"
      ],
      "text/plain": [
       "<IPython.core.display.HTML object>"
      ]
     },
     "metadata": {},
     "output_type": "display_data"
    },
    {
     "data": {
      "text/plain": []
     },
     "execution_count": 31,
     "metadata": {},
     "output_type": "execute_result"
    },
    {
     "name": "stdout",
     "output_type": "stream",
     "text": [
      "1/1 [==============================] - 3s 3s/step\n",
      "1/1 [==============================] - 0s 64ms/step\n",
      "1/1 [==============================] - 0s 50ms/step\n",
      "1/1 [==============================] - 0s 57ms/step\n",
      "1/1 [==============================] - 0s 50ms/step\n",
      "1/1 [==============================] - 0s 50ms/step\n",
      "1/1 [==============================] - 0s 51ms/step\n",
      "1/1 [==============================] - 0s 67ms/step\n",
      "1/1 [==============================] - 0s 50ms/step\n",
      "1/1 [==============================] - 0s 67ms/step\n",
      "1/1 [==============================] - 0s 50ms/step\n",
      "1/1 [==============================] - 0s 65ms/step\n",
      "1/1 [==============================] - 0s 67ms/step\n",
      "1/1 [==============================] - 0s 50ms/step\n",
      "1/1 [==============================] - 0s 50ms/step\n",
      "1/1 [==============================] - 0s 51ms/step\n",
      "1/1 [==============================] - 0s 50ms/step\n",
      "1/1 [==============================] - 0s 67ms/step\n",
      "1/1 [==============================] - 0s 66ms/step\n",
      "1/1 [==============================] - 0s 67ms/step\n",
      "1/1 [==============================] - 0s 67ms/step\n",
      "1/1 [==============================] - 0s 50ms/step\n",
      "1/1 [==============================] - 0s 50ms/step\n",
      "1/1 [==============================] - 0s 67ms/step\n",
      "1/1 [==============================] - 0s 50ms/step\n",
      "1/1 [==============================] - 0s 67ms/step\n",
      "1/1 [==============================] - 0s 67ms/step\n"
     ]
    }
   ],
   "source": [
    "# Load model\n",
    "model = load_model('./mobilenetv2_model.h5')\n",
    "\n",
    "# Class names\n",
    "class_names = [\n",
    "    'Afghan_hound',\n",
    "    'Airedale',\n",
    "    'Bernese_mountain_dog',\n",
    "    'EntleBucher',\n",
    "    'Great_Pyrenees',\n",
    "    'Irish_wolfhound',\n",
    "    'Lakeland_terrier',\n",
    "    'Leonberg',\n",
    "    'Maltese_dog',\n",
    "    'Pomeranian',\n",
    "    'Saluki',\n",
    "    'Samoyed',\n",
    "    'Scottish_deerhound',\n",
    "    'Sealyham_terrier',\n",
    "    'Shih-Tzu',\n",
    "    'Tibetan_terrier',\n",
    "    'basenji',\n",
    "    'cairn',\n",
    "    'chow',\n",
    "    'pug',\n",
    "    ]\n",
    "\n",
    "# Define the full prediction function\n",
    "def breed_prediction(img):\n",
    "    \"\"\"Prediction of dog's breed.\n",
    "\n",
    "    Args:\n",
    "        img: image of a dog to detect its breed\n",
    "    Returns:\n",
    "        Dictionary of dog's breed and score.\n",
    "\n",
    "    \"\"\"\n",
    "    img = cv.cvtColor(img, cv.COLOR_BGR2RGB)\n",
    "    (img_height, img_width) = (160, 160)\n",
    "    img = cv.resize(img, (img_height, img_width))\n",
    "    img_array = tf.keras.utils.img_to_array(img)\n",
    "    img_array = tf.expand_dims(img_array, 0)  # Create a batch\n",
    "    \n",
    "    # predict\n",
    "    predictions = model.predict(img_array)\n",
    "    score = tf.nn.softmax(predictions[0]).numpy()\n",
    "\n",
    "    return {class_names[np.where(score==score[i])[0][0]]: float(score[i]) for i in range(len(class_names))}\n",
    "    \n",
    "# Construct the interface using gradio\n",
    "image = gr.inputs.Image(shape=(160, 160))\n",
    "label = gr.outputs.Label(num_top_classes=5)\n",
    "\n",
    "gr.Interface(fn=breed_prediction, inputs=image, outputs=label,\n",
    "             capture_session=True).launch(share=True)"
   ]
  },
  {
   "cell_type": "code",
   "execution_count": null,
   "id": "24950353",
   "metadata": {},
   "outputs": [],
   "source": []
  }
 ],
 "metadata": {
  "kernelspec": {
   "display_name": "Python 3 (ipykernel)",
   "language": "python",
   "name": "python3"
  },
  "language_info": {
   "codemirror_mode": {
    "name": "ipython",
    "version": 3
   },
   "file_extension": ".py",
   "mimetype": "text/x-python",
   "name": "python",
   "nbconvert_exporter": "python",
   "pygments_lexer": "ipython3",
   "version": "3.9.12"
  }
 },
 "nbformat": 4,
 "nbformat_minor": 5
}
